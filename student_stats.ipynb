{
  "nbformat": 4,
  "nbformat_minor": 0,
  "metadata": {
    "colab": {
      "name": "student_stats.ipynb",
      "provenance": [],
      "private_outputs": true,
      "collapsed_sections": []
    },
    "kernelspec": {
      "name": "python3",
      "display_name": "Python 3"
    }
  },
  "cells": [
    {
      "cell_type": "code",
      "metadata": {
        "id": "dXCdTZPDkWSx",
        "colab_type": "code",
        "colab": {}
      },
      "source": [
        "import numpy as np\n",
        "import scipy as sp\n",
        "import pandas as pd\n",
        "from pandas import Series, DataFrame\n",
        "\n",
        "import matplotlib.pyplot as plt\n",
        "import matplotlib.pyplot as plt\n",
        "import seaborn as sns\n",
        "sns.set()\n",
        "%matplotlib inline\n",
        "\n",
        "%precision 3\n",
        "from sklearn import linear_model"
      ],
      "execution_count": 0,
      "outputs": []
    },
    {
      "cell_type": "code",
      "metadata": {
        "id": "FJf_fXx5l-eR",
        "colab_type": "code",
        "colab": {}
      },
      "source": [
        "import requests, zipfile\n",
        "from io import StringIO\n",
        "import io"
      ],
      "execution_count": 0,
      "outputs": []
    },
    {
      "cell_type": "code",
      "metadata": {
        "id": "dMHdNy1gmSs-",
        "colab_type": "code",
        "colab": {}
      },
      "source": [
        "mkdir chap3"
      ],
      "execution_count": 0,
      "outputs": []
    },
    {
      "cell_type": "code",
      "metadata": {
        "id": "Xk4DUh1OmdvV",
        "colab_type": "code",
        "colab": {}
      },
      "source": [
        "cd ./chap3"
      ],
      "execution_count": 0,
      "outputs": []
    },
    {
      "cell_type": "code",
      "metadata": {
        "id": "BIj7cw7nmh3c",
        "colab_type": "code",
        "colab": {}
      },
      "source": [
        "pwd"
      ],
      "execution_count": 0,
      "outputs": []
    },
    {
      "cell_type": "code",
      "metadata": {
        "id": "OjCWfqKUmn0k",
        "colab_type": "code",
        "colab": {}
      },
      "source": [
        "url = 'http://archive.ics.uci.edu/ml/machine-learning-databases/00356/student.zip'\n",
        "r =requests.get(url,stream=True)"
      ],
      "execution_count": 0,
      "outputs": []
    },
    {
      "cell_type": "code",
      "metadata": {
        "id": "Ki-k8Bn7nWmT",
        "colab_type": "code",
        "colab": {}
      },
      "source": [
        "z = zipfile.ZipFile(io.BytesIO(r.content))\n",
        "z.extractall()"
      ],
      "execution_count": 0,
      "outputs": []
    },
    {
      "cell_type": "code",
      "metadata": {
        "id": "HLhjA1b-n2rY",
        "colab_type": "code",
        "colab": {}
      },
      "source": [
        "ls"
      ],
      "execution_count": 0,
      "outputs": []
    },
    {
      "cell_type": "code",
      "metadata": {
        "id": "lnceebiQn-Vp",
        "colab_type": "code",
        "colab": {}
      },
      "source": [
        "student_data_math = pd.read_csv('student-mat.csv')"
      ],
      "execution_count": 0,
      "outputs": []
    },
    {
      "cell_type": "code",
      "metadata": {
        "id": "ejXH6u0toKd4",
        "colab_type": "code",
        "colab": {}
      },
      "source": [
        "student_data_math.head()"
      ],
      "execution_count": 0,
      "outputs": []
    },
    {
      "cell_type": "code",
      "metadata": {
        "id": "3mik66WEoaZI",
        "colab_type": "code",
        "colab": {}
      },
      "source": [
        "student_data_math = pd.read_csv('student-mat.csv',sep=';')"
      ],
      "execution_count": 0,
      "outputs": []
    },
    {
      "cell_type": "code",
      "metadata": {
        "id": "oNm3SIkpoeH_",
        "colab_type": "code",
        "colab": {}
      },
      "source": [
        "student_data_math.head()"
      ],
      "execution_count": 0,
      "outputs": []
    },
    {
      "cell_type": "code",
      "metadata": {
        "id": "0TPLAOCuoqp_",
        "colab_type": "code",
        "colab": {}
      },
      "source": [
        "?pd.read_csv"
      ],
      "execution_count": 0,
      "outputs": []
    },
    {
      "cell_type": "code",
      "metadata": {
        "id": "jWXazubXo4Q9",
        "colab_type": "code",
        "colab": {}
      },
      "source": [
        "student_data_math.info()"
      ],
      "execution_count": 0,
      "outputs": []
    },
    {
      "cell_type": "code",
      "metadata": {
        "id": "pOZOFX2-pCwV",
        "colab_type": "code",
        "colab": {}
      },
      "source": [
        "less student.txt"
      ],
      "execution_count": 0,
      "outputs": []
    },
    {
      "cell_type": "code",
      "metadata": {
        "id": "dBo1l0p5pK51",
        "colab_type": "code",
        "colab": {}
      },
      "source": [
        "student_data_math['absences'].head()"
      ],
      "execution_count": 0,
      "outputs": []
    },
    {
      "cell_type": "code",
      "metadata": {
        "id": "N4LCinIwpjpr",
        "colab_type": "code",
        "colab": {}
      },
      "source": [
        "student_data_math.groupby('sex')['age'].mean()"
      ],
      "execution_count": 0,
      "outputs": []
    },
    {
      "cell_type": "code",
      "metadata": {
        "id": "1zYNiZKQp5wK",
        "colab_type": "code",
        "colab": {}
      },
      "source": [
        "plt.hist(student_data_math['absences'])\n",
        "plt.xlabel('absences')\n",
        "plt.ylabel('count')\n",
        "plt.grid(True);"
      ],
      "execution_count": 0,
      "outputs": []
    },
    {
      "cell_type": "code",
      "metadata": {
        "id": "TjzX5vT2qSpK",
        "colab_type": "code",
        "colab": {}
      },
      "source": [
        "print('mean: ',student_data_math['absences'].mean())\n",
        "print('median: ',student_data_math['absences'].median())\n",
        "print('mode: ',student_data_math['absences'].mode())"
      ],
      "execution_count": 0,
      "outputs": []
    },
    {
      "cell_type": "code",
      "metadata": {
        "id": "qpgU7czEq_6_",
        "colab_type": "code",
        "colab": {}
      },
      "source": [
        "student_data_math['absences'].var(),student_data_math['absences'].std()"
      ],
      "execution_count": 0,
      "outputs": []
    },
    {
      "cell_type": "code",
      "metadata": {
        "id": "a1l5vpu7rSoX",
        "colab_type": "code",
        "colab": {}
      },
      "source": [
        "student_data_math['absences'].describe()"
      ],
      "execution_count": 0,
      "outputs": []
    },
    {
      "cell_type": "code",
      "metadata": {
        "id": "Jn1PBYdXr9EL",
        "colab_type": "code",
        "colab": {}
      },
      "source": [
        "student_data_math['absences'].describe()[6]-student_data_math['absences'].describe()[4]"
      ],
      "execution_count": 0,
      "outputs": []
    },
    {
      "cell_type": "code",
      "metadata": {
        "id": "oawx2wd2sOwj",
        "colab_type": "code",
        "colab": {}
      },
      "source": [
        "plt.boxplot(student_data_math['G1'])\n",
        "plt.grid()"
      ],
      "execution_count": 0,
      "outputs": []
    },
    {
      "cell_type": "code",
      "metadata": {
        "id": "pOhGzStasc9Z",
        "colab_type": "code",
        "colab": {}
      },
      "source": [
        "plt.boxplot(student_data_math['absences'])\n",
        "plt.grid()"
      ],
      "execution_count": 0,
      "outputs": []
    },
    {
      "cell_type": "code",
      "metadata": {
        "id": "pvvuvM7GtAGD",
        "colab_type": "code",
        "colab": {}
      },
      "source": [
        "student_data_math['absences'].std() / student_data_math['absences'].mean()"
      ],
      "execution_count": 0,
      "outputs": []
    },
    {
      "cell_type": "code",
      "metadata": {
        "id": "aaZe52qGtR3w",
        "colab_type": "code",
        "colab": {}
      },
      "source": [
        "student_data_math.std() / student_data_math.mean()"
      ],
      "execution_count": 0,
      "outputs": []
    },
    {
      "cell_type": "code",
      "metadata": {
        "id": "nLNtYrfmtgXH",
        "colab_type": "code",
        "colab": {}
      },
      "source": [
        "plt.plot(student_data_math['G1'],student_data_math['G3'], 'o')\n",
        "\n",
        "plt.xlabel('G1 grade')\n",
        "plt.ylabel('G3 grade')\n",
        "plt.grid(True);"
      ],
      "execution_count": 0,
      "outputs": []
    },
    {
      "cell_type": "code",
      "metadata": {
        "id": "MyVqusJOuGKF",
        "colab_type": "code",
        "colab": {}
      },
      "source": [
        "np.cov(student_data_math['G1'],student_data_math['G3'])"
      ],
      "execution_count": 0,
      "outputs": []
    },
    {
      "cell_type": "code",
      "metadata": {
        "id": "x2AwZFrzuonc",
        "colab_type": "code",
        "colab": {}
      },
      "source": [
        "print('G1 variance', student_data_math['G1'].var())\n",
        "print('G3 variance', student_data_math['G3'].var())"
      ],
      "execution_count": 0,
      "outputs": []
    },
    {
      "cell_type": "code",
      "metadata": {
        "id": "BM8UkMclvF6y",
        "colab_type": "code",
        "colab": {}
      },
      "source": [
        "sp.stats.pearsonr(student_data_math['G1'], student_data_math['G3'])"
      ],
      "execution_count": 0,
      "outputs": []
    },
    {
      "cell_type": "code",
      "metadata": {
        "id": "09xYbjDMvb76",
        "colab_type": "code",
        "colab": {}
      },
      "source": [
        "np.corrcoef([student_data_math['G1'], student_data_math['G3']])"
      ],
      "execution_count": 0,
      "outputs": []
    },
    {
      "cell_type": "code",
      "metadata": {
        "id": "SQ-hz1pG0MVF",
        "colab_type": "code",
        "colab": {}
      },
      "source": [
        "sns.pairplot(student_data_math[['Dalc','Walc','G1','G3']])\n",
        "plt.grid(True);"
      ],
      "execution_count": 0,
      "outputs": []
    },
    {
      "cell_type": "code",
      "metadata": {
        "id": "lTXQnV0C1WqQ",
        "colab_type": "code",
        "colab": {}
      },
      "source": [
        "student_data_math.groupby('Walc')['G1'].mean()"
      ],
      "execution_count": 0,
      "outputs": []
    }
  ]
}